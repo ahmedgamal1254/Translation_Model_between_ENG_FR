{
 "cells": [
  {
   "cell_type": "code",
   "execution_count": 1,
   "metadata": {
    "id": "kT3yGZXcoLMV"
   },
   "outputs": [
    {
     "name": "stderr",
     "output_type": "stream",
     "text": [
      "[nltk_data] Downloading package stopwords to\n",
      "[nltk_data]     C:\\Users\\engah\\AppData\\Roaming\\nltk_data...\n",
      "[nltk_data]   Package stopwords is already up-to-date!\n",
      "[nltk_data] Downloading package punkt to\n",
      "[nltk_data]     C:\\Users\\engah\\AppData\\Roaming\\nltk_data...\n",
      "[nltk_data]   Package punkt is already up-to-date!\n"
     ]
    }
   ],
   "source": [
    "# basic libs\n",
    "import numpy as np\n",
    "\n",
    "# cleaning data\n",
    "import re\n",
    "import os\n",
    "import nltk\n",
    "nltk.download(\"stopwords\")\n",
    "nltk.download('punkt')\n",
    "\n",
    "# save vocabulary in files\n",
    "import pickle\n",
    "\n",
    "# tokenization\n",
    "import tensorflow as tf\n",
    "from tensorflow import keras\n",
    "from tensorflow.keras.preprocessing.text import Tokenizer\n",
    "from tensorflow.keras.preprocessing.sequence import pad_sequences\n",
    "\n",
    "# Model\n",
    "from tensorflow.keras.layers import LSTM,Embedding,Input,Dense,SpatialDropout1D,Activation\n",
    "from tensorflow.keras.models import Model,load_model\n"
   ]
  },
  {
   "cell_type": "code",
   "execution_count": 2,
   "metadata": {
    "id": "Jycf3yceqWWt"
   },
   "outputs": [],
   "source": [
    "model=load_model(\"Model_english_to_frensh.h5\")"
   ]
  },
  {
   "cell_type": "code",
   "execution_count": 3,
   "metadata": {
    "id": "0nt65KNpq5Ct"
   },
   "outputs": [
    {
     "name": "stdout",
     "output_type": "stream",
     "text": [
      "Model: \"model\"\n",
      "__________________________________________________________________________________________________\n",
      " Layer (type)                   Output Shape         Param #     Connected to                     \n",
      "==================================================================================================\n",
      " encoder_input_layer (InputLaye  [(None, None)]      0           []                               \n",
      " r)                                                                                               \n",
      "                                                                                                  \n",
      " encoder_embedding_layer (Embed  (None, None, 300)   4171200     ['encoder_input_layer[0][0]']    \n",
      " ding)                                                                                            \n",
      "                                                                                                  \n",
      " decoder_input_layer (InputLaye  [(None, None)]      0           []                               \n",
      " r)                                                                                               \n",
      "                                                                                                  \n",
      " encoder_lstm_1_layer (LSTM)    [(None, None, 256),  570368      ['encoder_embedding_layer[0][0]']\n",
      "                                 (None, 256),                                                     \n",
      "                                 (None, 256)]                                                     \n",
      "                                                                                                  \n",
      " decoder_embedding_layer (Embed  (None, None, 300)   8082600     ['decoder_input_layer[0][0]']    \n",
      " ding)                                                                                            \n",
      "                                                                                                  \n",
      " encoder_lstm_2_layer (LSTM)    [(None, 256),        525312      ['encoder_lstm_1_layer[0][0]',   \n",
      "                                 (None, 256),                     'encoder_lstm_1_layer[0][1]',   \n",
      "                                 (None, 256)]                     'encoder_lstm_1_layer[0][2]']   \n",
      "                                                                                                  \n",
      " decoder_lstm_layer (LSTM)      [(None, None, 256),  570368      ['decoder_embedding_layer[0][0]',\n",
      "                                 (None, 256),                     'encoder_lstm_2_layer[0][1]',   \n",
      "                                 (None, 256)]                     'encoder_lstm_2_layer[0][2]']   \n",
      "                                                                                                  \n",
      " deocer_final_layer (Dense)     (None, None, 26943)  6924351     ['decoder_lstm_layer[0][0]']     \n",
      "                                                                                                  \n",
      "==================================================================================================\n",
      "Total params: 20,844,199\n",
      "Trainable params: 20,844,199\n",
      "Non-trainable params: 0\n",
      "__________________________________________________________________________________________________\n"
     ]
    }
   ],
   "source": [
    "model.summary()"
   ]
  },
  {
   "cell_type": "code",
   "execution_count": 4,
   "metadata": {
    "id": "99x8m_AcrirQ"
   },
   "outputs": [
    {
     "data": {
      "text/plain": [
       "<keras.layers.rnn.lstm.LSTM at 0x1fc173d7610>"
      ]
     },
     "execution_count": 4,
     "metadata": {},
     "output_type": "execute_result"
    }
   ],
   "source": [
    "model.get_layer(\"decoder_lstm_layer\")"
   ]
  },
  {
   "cell_type": "code",
   "execution_count": 5,
   "metadata": {
    "id": "NUl-Tku-tAtB"
   },
   "outputs": [
    {
     "data": {
      "text/plain": [
       "1"
      ]
     },
     "execution_count": 5,
     "metadata": {},
     "output_type": "execute_result"
    }
   ],
   "source": [
    "word_2_idx_target=pickle.load(open(\"vocabulary/word_2_idx_target.txt\",\"rb\"))\n",
    "word_2_idx_target[\"end\"]"
   ]
  },
  {
   "cell_type": "code",
   "execution_count": 6,
   "metadata": {
    "id": "pQcSgjJ8orwn"
   },
   "outputs": [
    {
     "data": {
      "text/plain": [
       "26942"
      ]
     },
     "execution_count": 6,
     "metadata": {},
     "output_type": "execute_result"
    }
   ],
   "source": [
    "len(word_2_idx_target)"
   ]
  },
  {
   "cell_type": "code",
   "execution_count": 7,
   "metadata": {
    "id": "5JHCPQ08tlIr"
   },
   "outputs": [
    {
     "data": {
      "text/plain": [
       "13904"
      ]
     },
     "execution_count": 7,
     "metadata": {},
     "output_type": "execute_result"
    }
   ],
   "source": [
    "word_2_idx_input=pickle.load(open(\"vocabulary/word_2_idx_input.txt\",\"rb\"))\n",
    "len(word_2_idx_input)"
   ]
  },
  {
   "cell_type": "code",
   "execution_count": 8,
   "metadata": {
    "id": "i_mOpWxuur92"
   },
   "outputs": [],
   "source": [
    "num_encoder_tokens=13902\n",
    "max_encoder_sequence_len=47\n",
    "num_decoder_tokens=26560\n",
    "max_encoder_sequence_len=57"
   ]
  },
  {
   "cell_type": "code",
   "execution_count": 9,
   "metadata": {
    "id": "MkfHWBc_pRNi"
   },
   "outputs": [],
   "source": [
    "def make_references():\n",
    "  encoder_input=Input(shape=(None,),name=\"encoder_input_layer\")\n",
    "  encoder_embedding=model.get_layer(\"encoder_embedding_layer\")(encoder_input)\n",
    "  encoder_lstm=model.get_layer(\"encoder_lstm_1_layer\")(encoder_embedding)\n",
    "  encoder_lstm2=model.get_layer(\"encoder_lstm_2_layer\")(encoder_lstm)\n",
    "  _,state_h,state_c=encoder_lstm2\n",
    "  encoder_states=[state_h,state_c]\n",
    "  encoder_reference_model=Model(encoder_input,encoder_states)\n",
    "\n",
    "\n",
    "  decoder_state_h=Input(shape=(256,))\n",
    "  decoder_state_c=Input(shape=(256,))\n",
    "  decoder_input_states=[decoder_state_h,decoder_state_c]\n",
    "\n",
    "  decoder_input=Input(shape=(None,),name=\"decoder_input_layer\")\n",
    "  decoder_embedding=model.get_layer(\"decoder_embedding_layer\")(decoder_input)\n",
    "  decoder_lstm=model.get_layer(\"decoder_lstm_layer\")\n",
    "\n",
    "  decoder_outputs,state_h,state_c=decoder_lstm(decoder_embedding,initial_state=encoder_states)\n",
    "  decoder_dense=model.get_layer(\"deocer_final_layer\")\n",
    "  \n",
    "  decoder_outputs,state_h,state_c=decoder_lstm(decoder_embedding,initial_state=decoder_input_states)\n",
    "\n",
    "  decoder_state=[state_h,state_c]\n",
    "  decoder_outputs=decoder_dense(decoder_outputs)\n",
    "  decoder_reference_model=Model([decoder_input]+decoder_input_states,[decoder_outputs]+decoder_state)\n",
    "\n",
    "  return encoder_reference_model,decoder_reference_model"
   ]
  },
  {
   "cell_type": "code",
   "execution_count": 10,
   "metadata": {
    "id": "i2jX_allsmHw"
   },
   "outputs": [
    {
     "data": {
      "text/plain": [
       "array([[59, 13,  2,  0,  0]])"
      ]
     },
     "execution_count": 10,
     "metadata": {},
     "output_type": "execute_result"
    }
   ],
   "source": [
    "arr=np.array([[59, 13,  2,  0,  0]], dtype='int32')\n",
    "arr"
   ]
  },
  {
   "cell_type": "code",
   "execution_count": 11,
   "metadata": {
    "id": "wjDSVDLHttlj"
   },
   "outputs": [
    {
     "data": {
      "text/plain": [
       "array([[43, 23,  2,  0,  0]])"
      ]
     },
     "execution_count": 11,
     "metadata": {},
     "output_type": "execute_result"
    }
   ],
   "source": [
    "# clean english column\n",
    "def clean_english(text):\n",
    "  text=text.lower() # lower case\n",
    "\n",
    "  # remove any characters not a-z and ?!,'\n",
    "  text=re.sub(u\"[^a-z!?',]\",\" \",text)\n",
    "\n",
    "  # word tokenization\n",
    "  text=nltk.word_tokenize(text)\n",
    "\n",
    "  # join text\n",
    "  text=\" \".join([i.strip() for i in text])\n",
    "\n",
    "  return text\n",
    "\n",
    "\n",
    "def prepare_text(text):\n",
    "  text=clean_english(text)\n",
    "\n",
    "  res=[word_2_idx_input[i] for i in text.split(\" \")]\n",
    "  pad=pad_sequences([res],maxlen=5,padding=\"post\")\n",
    "  return pad\n",
    "prepare_text(\"How are you\")"
   ]
  },
  {
   "cell_type": "code",
   "execution_count": 12,
   "metadata": {
    "id": "IkanpaQ8sudO"
   },
   "outputs": [],
   "source": [
    "def translate_eng_fr(text):\n",
    "    enc_model,dec_model=make_references()\n",
    "\n",
    "    states_value=enc_model(prepare_text(text))\n",
    "\n",
    "    empty_target_seq=np.zeros((1,1))\n",
    "    empty_target_seq[0,0]=word_2_idx_target[\"start\"]\n",
    "\n",
    "    stop_condition=False\n",
    "    decoded_translaition=\"\"\n",
    "\n",
    "    while not stop_condition:\n",
    "      dec_output,h,c=dec_model.predict([empty_target_seq]+states_value)\n",
    "      sampled_word_index=np.argmax(dec_output[0,-1,:])\n",
    "      sampled_word=None\n",
    "\n",
    "      for word,index in word_2_idx_target.items():\n",
    "        if sampled_word_index == index:\n",
    "          decoded_translaition+=' {}'.format(word)\n",
    "          sampled_word=word\n",
    "\n",
    "        if sampled_word == \"end\" or len(decoded_translaition.split(\" \")) >= 12:\n",
    "          stop_condition=True\n",
    "\n",
    "      empty_target_seq=np.zeros((1,1))\n",
    "      empty_target_seq[0,0]=sampled_word_index\n",
    "      states_value=[h,c]\n",
    "    decoded_translaition=\" \".join(decoded_translaition.split()[:-1])\n",
    "    print(decoded_translaition)"
   ]
  },
  {
   "cell_type": "code",
   "execution_count": 13,
   "metadata": {
    "id": "JCppI3CG961G"
   },
   "outputs": [
    {
     "name": "stdout",
     "output_type": "stream",
     "text": [
      "Enter text :- hello\n",
      "1/1 [==============================] - 1s 626ms/step\n",
      "1/1 [==============================] - 0s 27ms/step\n",
      "1/1 [==============================] - 0s 27ms/step\n",
      "1/1 [==============================] - 0s 26ms/step\n",
      "1/1 [==============================] - 0s 27ms/step\n",
      "1/1 [==============================] - 0s 26ms/step\n",
      "qu'as tu du bon train\n"
     ]
    }
   ],
   "source": [
    "translate_eng_fr(input(\"Enter text :- \"))"
   ]
  },
  {
   "cell_type": "code",
   "execution_count": 14,
   "metadata": {},
   "outputs": [
    {
     "name": "stdout",
     "output_type": "stream",
     "text": [
      "1/1 [==============================] - 0s 475ms/step\n",
      "1/1 [==============================] - 0s 27ms/step\n",
      "j'attends\n"
     ]
    }
   ],
   "source": [
    "translate_eng_fr(\"wait\")"
   ]
  },
  {
   "cell_type": "code",
   "execution_count": 15,
   "metadata": {},
   "outputs": [
    {
     "name": "stdout",
     "output_type": "stream",
     "text": [
      "1/1 [==============================] - 0s 449ms/step\n",
      "1/1 [==============================] - 0s 26ms/step\n",
      "1/1 [==============================] - 0s 26ms/step\n",
      "1/1 [==============================] - 0s 25ms/step\n",
      "1/1 [==============================] - 0s 26ms/step\n",
      "j'attends arrête ordinateur prochaine\n"
     ]
    }
   ],
   "source": [
    "translate_eng_fr(\"stop it\")"
   ]
  },
  {
   "cell_type": "code",
   "execution_count": 16,
   "metadata": {},
   "outputs": [
    {
     "name": "stdout",
     "output_type": "stream",
     "text": [
      "1/1 [==============================] - 0s 450ms/step\n",
      "1/1 [==============================] - 0s 26ms/step\n",
      "1/1 [==============================] - 0s 27ms/step\n",
      "j'apprécie d'essayer\n"
     ]
    }
   ],
   "source": [
    "translate_eng_fr(\"try do this\")"
   ]
  },
  {
   "cell_type": "code",
   "execution_count": 17,
   "metadata": {},
   "outputs": [
    {
     "name": "stdout",
     "output_type": "stream",
     "text": [
      "1/1 [==============================] - 0s 474ms/step\n",
      "1/1 [==============================] - 0s 27ms/step\n",
      "1/1 [==============================] - 0s 26ms/step\n",
      "1/1 [==============================] - 0s 27ms/step\n",
      "1/1 [==============================] - 0s 28ms/step\n",
      "j'apprécie de se faire\n"
     ]
    }
   ],
   "source": [
    "translate_eng_fr(\"try for this\")"
   ]
  },
  {
   "cell_type": "code",
   "execution_count": 18,
   "metadata": {},
   "outputs": [
    {
     "name": "stdout",
     "output_type": "stream",
     "text": [
      "1/1 [==============================] - 0s 456ms/step\n",
      "1/1 [==============================] - 0s 28ms/step\n",
      "1/1 [==============================] - 0s 27ms/step\n",
      "qu'as décédé\n"
     ]
    }
   ],
   "source": [
    "translate_eng_fr(\"help\")"
   ]
  },
  {
   "cell_type": "code",
   "execution_count": 19,
   "metadata": {},
   "outputs": [
    {
     "name": "stdout",
     "output_type": "stream",
     "text": [
      "1/1 [==============================] - 0s 475ms/step\n",
      "1/1 [==============================] - 0s 26ms/step\n",
      "1/1 [==============================] - 0s 26ms/step\n",
      "1/1 [==============================] - 0s 27ms/step\n",
      "1/1 [==============================] - 0s 26ms/step\n",
      "1/1 [==============================] - 0s 26ms/step\n",
      "je ne suis pas du\n"
     ]
    }
   ],
   "source": [
    "translate_eng_fr(\"i just\")"
   ]
  },
  {
   "cell_type": "code",
   "execution_count": 20,
   "metadata": {},
   "outputs": [
    {
     "name": "stdout",
     "output_type": "stream",
     "text": [
      "1/1 [==============================] - 0s 438ms/step\n",
      "1/1 [==============================] - 0s 27ms/step\n",
      "1/1 [==============================] - 0s 26ms/step\n",
      "1/1 [==============================] - 0s 26ms/step\n",
      "1/1 [==============================] - 0s 26ms/step\n",
      "j ai ma voiture\n"
     ]
    }
   ],
   "source": [
    "translate_eng_fr(\"My Car\")"
   ]
  },
  {
   "cell_type": "code",
   "execution_count": 22,
   "metadata": {},
   "outputs": [
    {
     "name": "stdout",
     "output_type": "stream",
     "text": [
      "1/1 [==============================] - 0s 467ms/step\n",
      "1/1 [==============================] - 0s 26ms/step\n",
      "1/1 [==============================] - 0s 28ms/step\n",
      "1/1 [==============================] - 0s 26ms/step\n",
      "1/1 [==============================] - 0s 26ms/step\n",
      "1/1 [==============================] - 0s 26ms/step\n",
      "qu'est ce que vous !\n"
     ]
    }
   ],
   "source": [
    "translate_eng_fr(\"i love you !\")"
   ]
  },
  {
   "cell_type": "code",
   "execution_count": 23,
   "metadata": {},
   "outputs": [
    {
     "name": "stdout",
     "output_type": "stream",
     "text": [
      "1/1 [==============================] - 1s 640ms/step\n",
      "1/1 [==============================] - 0s 28ms/step\n",
      "1/1 [==============================] - 0s 27ms/step\n",
      "1/1 [==============================] - 0s 27ms/step\n",
      "il a raison\n"
     ]
    }
   ],
   "source": [
    "translate_eng_fr(\"he can\")"
   ]
  },
  {
   "cell_type": "code",
   "execution_count": 24,
   "metadata": {},
   "outputs": [
    {
     "name": "stdout",
     "output_type": "stream",
     "text": [
      "1/1 [==============================] - 0s 455ms/step\n",
      "1/1 [==============================] - 0s 26ms/step\n",
      "1/1 [==============================] - 0s 27ms/step\n",
      "1/1 [==============================] - 0s 27ms/step\n",
      "je vous ?\n"
     ]
    }
   ],
   "source": [
    "translate_eng_fr(\"i am happy\")"
   ]
  },
  {
   "cell_type": "code",
   "execution_count": 25,
   "metadata": {
    "scrolled": true
   },
   "outputs": [
    {
     "name": "stdout",
     "output_type": "stream",
     "text": [
      "1/1 [==============================] - 0s 465ms/step\n",
      "1/1 [==============================] - 0s 27ms/step\n",
      "1/1 [==============================] - 0s 26ms/step\n",
      "1/1 [==============================] - 0s 26ms/step\n",
      "1/1 [==============================] - 0s 26ms/step\n",
      "qu'avez dans ma maison\n"
     ]
    }
   ],
   "source": [
    "translate_eng_fr(\"in my home\")"
   ]
  },
  {
   "cell_type": "code",
   "execution_count": 26,
   "metadata": {},
   "outputs": [
    {
     "name": "stdout",
     "output_type": "stream",
     "text": [
      "1/1 [==============================] - 0s 454ms/step\n",
      "1/1 [==============================] - 0s 26ms/step\n",
      "1/1 [==============================] - 0s 26ms/step\n",
      "1/1 [==============================] - 0s 26ms/step\n",
      "qu'avez chez moi\n"
     ]
    }
   ],
   "source": [
    "translate_eng_fr(\"my home\")"
   ]
  },
  {
   "cell_type": "code",
   "execution_count": 27,
   "metadata": {},
   "outputs": [
    {
     "name": "stdout",
     "output_type": "stream",
     "text": [
      "1/1 [==============================] - 0s 468ms/step\n",
      "1/1 [==============================] - 0s 26ms/step\n",
      "1/1 [==============================] - 0s 26ms/step\n",
      "1/1 [==============================] - 0s 27ms/step\n",
      "1/1 [==============================] - 0s 27ms/step\n",
      "j'ai eu de l'argent\n"
     ]
    }
   ],
   "source": [
    "translate_eng_fr(\"i have money\")"
   ]
  },
  {
   "cell_type": "code",
   "execution_count": 28,
   "metadata": {},
   "outputs": [
    {
     "name": "stdout",
     "output_type": "stream",
     "text": [
      "1/1 [==============================] - 0s 451ms/step\n",
      "1/1 [==============================] - 0s 26ms/step\n",
      "1/1 [==============================] - 0s 26ms/step\n",
      "1/1 [==============================] - 0s 26ms/step\n",
      "1/1 [==============================] - 0s 27ms/step\n",
      "j ai une voiture\n"
     ]
    }
   ],
   "source": [
    "translate_eng_fr(\"i have a car\")"
   ]
  },
  {
   "cell_type": "code",
   "execution_count": 29,
   "metadata": {},
   "outputs": [
    {
     "name": "stdout",
     "output_type": "stream",
     "text": [
      "1/1 [==============================] - 1s 692ms/step\n",
      "1/1 [==============================] - 0s 28ms/step\n",
      "1/1 [==============================] - 0s 37ms/step\n",
      "1/1 [==============================] - 0s 36ms/step\n",
      "1/1 [==============================] - 0s 29ms/step\n",
      "j'ai perdu ma partie\n"
     ]
    }
   ],
   "source": [
    "translate_eng_fr(\"i lost my car\")"
   ]
  },
  {
   "cell_type": "code",
   "execution_count": 33,
   "metadata": {},
   "outputs": [
    {
     "name": "stdout",
     "output_type": "stream",
     "text": [
      "1/1 [==============================] - 0s 469ms/step\n",
      "1/1 [==============================] - 0s 58ms/step\n",
      "1/1 [==============================] - 0s 34ms/step\n",
      "1/1 [==============================] - 0s 27ms/step\n",
      "1/1 [==============================] - 0s 28ms/step\n",
      "j ai une voiture\n"
     ]
    }
   ],
   "source": [
    "translate_eng_fr(\"i have Car\")"
   ]
  },
  {
   "cell_type": "code",
   "execution_count": 34,
   "metadata": {},
   "outputs": [
    {
     "name": "stdout",
     "output_type": "stream",
     "text": [
      "1/1 [==============================] - 0s 461ms/step\n",
      "1/1 [==============================] - 0s 27ms/step\n",
      "1/1 [==============================] - 0s 27ms/step\n",
      "1/1 [==============================] - 0s 27ms/step\n",
      "1/1 [==============================] - 0s 69ms/step\n",
      "je joue au football\n"
     ]
    }
   ],
   "source": [
    "translate_eng_fr(\"i play football\")"
   ]
  },
  {
   "cell_type": "code",
   "execution_count": 36,
   "metadata": {},
   "outputs": [
    {
     "name": "stdout",
     "output_type": "stream",
     "text": [
      "1/1 [==============================] - 0s 468ms/step\n",
      "1/1 [==============================] - 0s 27ms/step\n",
      "1/1 [==============================] - 0s 27ms/step\n",
      "1/1 [==============================] - 0s 27ms/step\n",
      "je de jouer\n"
     ]
    }
   ],
   "source": [
    "translate_eng_fr(\"i play\")"
   ]
  },
  {
   "cell_type": "code",
   "execution_count": 38,
   "metadata": {},
   "outputs": [
    {
     "name": "stdout",
     "output_type": "stream",
     "text": [
      "1/1 [==============================] - 0s 458ms/step\n",
      "1/1 [==============================] - 0s 44ms/step\n",
      "1/1 [==============================] - 0s 27ms/step\n",
      "1/1 [==============================] - 0s 27ms/step\n",
      "1/1 [==============================] - 0s 27ms/step\n",
      "il joue au football\n"
     ]
    }
   ],
   "source": [
    "translate_eng_fr(\"she play football\")"
   ]
  },
  {
   "cell_type": "code",
   "execution_count": 39,
   "metadata": {},
   "outputs": [
    {
     "name": "stdout",
     "output_type": "stream",
     "text": [
      "1/1 [==============================] - 0s 452ms/step\n",
      "1/1 [==============================] - 0s 27ms/step\n",
      "1/1 [==============================] - 0s 56ms/step\n",
      "1/1 [==============================] - 0s 27ms/step\n",
      "1/1 [==============================] - 0s 38ms/step\n",
      "1/1 [==============================] - 0s 28ms/step\n",
      "j'ai eu un nouvel appartement\n"
     ]
    }
   ],
   "source": [
    "translate_eng_fr(\"i won a prize\")"
   ]
  },
  {
   "cell_type": "code",
   "execution_count": 40,
   "metadata": {
    "scrolled": true
   },
   "outputs": [
    {
     "name": "stdout",
     "output_type": "stream",
     "text": [
      "1/1 [==============================] - 0s 465ms/step\n",
      "1/1 [==============================] - 0s 27ms/step\n",
      "1/1 [==============================] - 0s 28ms/step\n",
      "1/1 [==============================] - 0s 27ms/step\n",
      "1/1 [==============================] - 0s 36ms/step\n",
      "1/1 [==============================] - 0s 27ms/step\n",
      "1/1 [==============================] - 0s 27ms/step\n",
      "je vous suis sorti de h\n"
     ]
    }
   ],
   "source": [
    "translate_eng_fr(\"I'm done with you.\")"
   ]
  },
  {
   "cell_type": "code",
   "execution_count": 41,
   "metadata": {},
   "outputs": [
    {
     "name": "stdout",
     "output_type": "stream",
     "text": [
      "1/1 [==============================] - 0s 459ms/step\n",
      "1/1 [==============================] - 0s 27ms/step\n",
      "1/1 [==============================] - 0s 41ms/step\n",
      "1/1 [==============================] - 0s 26ms/step\n",
      "1/1 [==============================] - 0s 46ms/step\n",
      "je sais de l'intérieur\n"
     ]
    }
   ],
   "source": [
    "translate_eng_fr(\"I'm eating a pear.\")"
   ]
  },
  {
   "cell_type": "code",
   "execution_count": 43,
   "metadata": {},
   "outputs": [
    {
     "name": "stdout",
     "output_type": "stream",
     "text": [
      "1/1 [==============================] - 0s 482ms/step\n",
      "1/1 [==============================] - 0s 36ms/step\n",
      "1/1 [==============================] - 0s 37ms/step\n",
      "1/1 [==============================] - 0s 27ms/step\n",
      "j'imagine avec vous\n"
     ]
    }
   ],
   "source": [
    "translate_eng_fr(\"happy birthday\")"
   ]
  },
  {
   "cell_type": "code",
   "execution_count": 44,
   "metadata": {},
   "outputs": [
    {
     "name": "stdout",
     "output_type": "stream",
     "text": [
      "1/1 [==============================] - 0s 459ms/step\n",
      "1/1 [==============================] - 0s 35ms/step\n",
      "1/1 [==============================] - 0s 27ms/step\n",
      "1/1 [==============================] - 0s 27ms/step\n",
      "1/1 [==============================] - 0s 45ms/step\n",
      "1/1 [==============================] - 0s 27ms/step\n",
      "malheureusement tu de nouveau ?\n"
     ]
    }
   ],
   "source": [
    "translate_eng_fr(\"Can I call you again?\")"
   ]
  },
  {
   "cell_type": "code",
   "execution_count": 45,
   "metadata": {},
   "outputs": [
    {
     "name": "stdout",
     "output_type": "stream",
     "text": [
      "1/1 [==============================] - 0s 460ms/step\n",
      "1/1 [==============================] - 0s 37ms/step\n",
      "1/1 [==============================] - 0s 28ms/step\n",
      "1/1 [==============================] - 0s 26ms/step\n",
      "1/1 [==============================] - 0s 27ms/step\n",
      "j'apprécie tout le temps\n"
     ]
    }
   ],
   "source": [
    "translate_eng_fr(\"Stop! You're hurting him!\")"
   ]
  },
  {
   "cell_type": "code",
   "execution_count": 47,
   "metadata": {},
   "outputs": [
    {
     "name": "stdout",
     "output_type": "stream",
     "text": [
      "1/1 [==============================] - 0s 456ms/step\n",
      "1/1 [==============================] - 0s 30ms/step\n",
      "1/1 [==============================] - 0s 26ms/step\n",
      "1/1 [==============================] - 0s 26ms/step\n",
      "1/1 [==============================] - 0s 27ms/step\n",
      "1/1 [==============================] - 0s 28ms/step\n",
      "1/1 [==============================] - 0s 41ms/step\n",
      "il y a eu un travail\n"
     ]
    }
   ],
   "source": [
    "translate_eng_fr(\"he work player\")"
   ]
  },
  {
   "cell_type": "code",
   "execution_count": 48,
   "metadata": {},
   "outputs": [
    {
     "name": "stdout",
     "output_type": "stream",
     "text": [
      "1/1 [==============================] - 1s 529ms/step\n",
      "1/1 [==============================] - 0s 30ms/step\n",
      "1/1 [==============================] - 0s 29ms/step\n",
      "1/1 [==============================] - 0s 28ms/step\n",
      "1/1 [==============================] - 0s 27ms/step\n",
      "1/1 [==============================] - 0s 44ms/step\n",
      "qu'as tu du bon train\n"
     ]
    }
   ],
   "source": [
    "translate_eng_fr(\"hello\")"
   ]
  },
  {
   "cell_type": "code",
   "execution_count": 50,
   "metadata": {},
   "outputs": [
    {
     "name": "stdout",
     "output_type": "stream",
     "text": [
      "1/1 [==============================] - 0s 471ms/step\n",
      "1/1 [==============================] - 0s 29ms/step\n",
      "1/1 [==============================] - 0s 27ms/step\n",
      "1/1 [==============================] - 0s 27ms/step\n",
      "1/1 [==============================] - 0s 26ms/step\n",
      "1/1 [==============================] - 0s 27ms/step\n",
      "qu'as tu de la place\n"
     ]
    }
   ],
   "source": [
    "translate_eng_fr(\"how are you\")"
   ]
  },
  {
   "cell_type": "code",
   "execution_count": 51,
   "metadata": {},
   "outputs": [
    {
     "name": "stdout",
     "output_type": "stream",
     "text": [
      "1/1 [==============================] - 0s 479ms/step\n",
      "1/1 [==============================] - 0s 28ms/step\n",
      "1/1 [==============================] - 0s 27ms/step\n",
      "1/1 [==============================] - 0s 27ms/step\n",
      "1/1 [==============================] - 0s 47ms/step\n",
      "je vous ai vu\n"
     ]
    }
   ],
   "source": [
    "translate_eng_fr(\"i see.\")"
   ]
  },
  {
   "cell_type": "code",
   "execution_count": 52,
   "metadata": {},
   "outputs": [
    {
     "name": "stdout",
     "output_type": "stream",
     "text": [
      "1/1 [==============================] - 0s 485ms/step\n",
      "1/1 [==============================] - 0s 41ms/step\n",
      "1/1 [==============================] - 0s 27ms/step\n",
      "j'attends exactement\n"
     ]
    }
   ],
   "source": [
    "translate_eng_fr(\"I can't wait for you.\")"
   ]
  },
  {
   "cell_type": "code",
   "execution_count": null,
   "metadata": {},
   "outputs": [],
   "source": []
  }
 ],
 "metadata": {
  "colab": {
   "private_outputs": true,
   "provenance": []
  },
  "kernelspec": {
   "display_name": "Python 3",
   "language": "python",
   "name": "python3"
  },
  "language_info": {
   "codemirror_mode": {
    "name": "ipython",
    "version": 3
   },
   "file_extension": ".py",
   "mimetype": "text/x-python",
   "name": "python",
   "nbconvert_exporter": "python",
   "pygments_lexer": "ipython3",
   "version": "3.8.3"
  }
 },
 "nbformat": 4,
 "nbformat_minor": 1
}
